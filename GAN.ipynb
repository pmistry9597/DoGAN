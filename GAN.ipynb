{
 "cells": [
  {
   "cell_type": "code",
   "execution_count": 1,
   "metadata": {
    "scrolled": false
   },
   "outputs": [],
   "source": [
    "from generator import Generator\n",
    "from critic import Critic\n",
    "from dog_dataset import DogData"
   ]
  },
  {
   "cell_type": "code",
   "execution_count": 2,
   "metadata": {
    "scrolled": false
   },
   "outputs": [],
   "source": [
    "from torchvision import transforms\n",
    "from torch.utils.data import DataLoader\n",
    "import torch\n",
    "from torch import optim"
   ]
  },
  {
   "cell_type": "code",
   "execution_count": 3,
   "metadata": {
    "scrolled": false
   },
   "outputs": [],
   "source": [
    "batchSize = 20"
   ]
  },
  {
   "cell_type": "code",
   "execution_count": 4,
   "metadata": {
    "scrolled": false
   },
   "outputs": [],
   "source": [
    "transform = transforms.Compose( [ transforms.ToTensor(), transforms.Normalize((0.5,0.5,0.5),(0.5,0.5,0.5)) ] )\n",
    "dogdata = DogData(transform)\n",
    "dogloader = DataLoader(dogdata, shuffle=True, batch_size=batchSize, num_workers=3)"
   ]
  },
  {
   "cell_type": "code",
   "execution_count": 5,
   "metadata": {
    "scrolled": false
   },
   "outputs": [],
   "source": [
    "def get_critic_scores(real_batch, batchSize, critic, generator):\n",
    "    generator.batchSize = batchSize\n",
    "    critic.batchSize = batchSize\n",
    "    #generate fake images\n",
    "    randoBatch = torch.randn([batchSize, 100, 1, 1])\n",
    "    generated = generator(randoBatch)\n",
    "    #compute scores of both real and fake using the critic\n",
    "    real_scores = critic(real_batch[0])\n",
    "    gen_scores = critic(generated)\n",
    "    return ( torch.sum(real_scores) , torch.sum(gen_scores) )"
   ]
  },
  {
   "cell_type": "code",
   "execution_count": 6,
   "metadata": {
    "scrolled": false
   },
   "outputs": [],
   "source": [
    "def get_generator_score(batchSize, critic, generator):\n",
    "    generator.batchSize = batchSize\n",
    "    #generate fake images\n",
    "    randoBatch = torch.randn([batchSize, 100, 1, 1])\n",
    "    generated = generator(randoBatch)\n",
    "    #compute scores of generated using critic\n",
    "    gen_scores = critic(generated)\n",
    "    return torch.sum(gen_scores)"
   ]
  },
  {
   "cell_type": "code",
   "execution_count": 7,
   "metadata": {
    "scrolled": false
   },
   "outputs": [],
   "source": [
    "class WeightClipper(object):\n",
    "\n",
    "    def __init__(self, frequency=5):\n",
    "        self.frequency = frequency\n",
    "\n",
    "    def __call__(self, module):\n",
    "        # filter the variables to get the ones you want\n",
    "        if hasattr(module, 'weight'):\n",
    "            w = module.weight.data\n",
    "            w = w.clamp(-0.01,0.01)\n",
    "            module.weight.data = w"
   ]
  },
  {
   "cell_type": "code",
   "execution_count": 8,
   "metadata": {
    "scrolled": true
   },
   "outputs": [
    {
     "data": {
      "text/plain": [
       "Critic(\n",
       "  (convBlocks): Sequential(\n",
       "    (0): Sequential(\n",
       "      (0): Conv2d(3, 32, kernel_size=(3, 3), stride=(2, 2), padding=(1, 1))\n",
       "      (1): BatchNorm2d(32, eps=1e-05, momentum=0.1, affine=True, track_running_stats=True)\n",
       "      (2): LeakyReLU(negative_slope=0.01)\n",
       "    )\n",
       "    (1): Sequential(\n",
       "      (0): Conv2d(32, 64, kernel_size=(3, 3), stride=(2, 2), padding=(1, 1))\n",
       "      (1): BatchNorm2d(64, eps=1e-05, momentum=0.1, affine=True, track_running_stats=True)\n",
       "      (2): LeakyReLU(negative_slope=0.01)\n",
       "    )\n",
       "    (2): Sequential(\n",
       "      (0): Conv2d(64, 128, kernel_size=(3, 3), stride=(1, 1))\n",
       "      (1): BatchNorm2d(128, eps=1e-05, momentum=0.1, affine=True, track_running_stats=True)\n",
       "      (2): LeakyReLU(negative_slope=0.01)\n",
       "    )\n",
       "  )\n",
       "  (fcBlocks): Sequential(\n",
       "    (0): Sequential(\n",
       "      (0): Linear(in_features=67712, out_features=100, bias=True)\n",
       "      (1): BatchNorm1d(100, eps=1e-05, momentum=0.1, affine=True, track_running_stats=True)\n",
       "      (2): LeakyReLU(negative_slope=0.01)\n",
       "    )\n",
       "    (1): Sequential(\n",
       "      (0): Linear(in_features=100, out_features=50, bias=True)\n",
       "      (1): BatchNorm1d(50, eps=1e-05, momentum=0.1, affine=True, track_running_stats=True)\n",
       "      (2): LeakyReLU(negative_slope=0.01)\n",
       "    )\n",
       "    (2): Linear(in_features=50, out_features=1, bias=True)\n",
       "  )\n",
       ")"
      ]
     },
     "execution_count": 8,
     "metadata": {},
     "output_type": "execute_result"
    }
   ],
   "source": [
    "critic = Critic()\n",
    "generator = Generator()\n",
    "clipper = WeightClipper()\n",
    "critic.apply(clipper)"
   ]
  },
  {
   "cell_type": "code",
   "execution_count": 9,
   "metadata": {
    "scrolled": false
   },
   "outputs": [],
   "source": [
    "num_epochs = 300\n",
    "critic_epochs = 1\n",
    "gen_epochs = 1"
   ]
  },
  {
   "cell_type": "code",
   "execution_count": 10,
   "metadata": {
    "scrolled": false
   },
   "outputs": [],
   "source": [
    "criticOptim = optim.RMSprop(critic.parameters(), lr=0.005, momentum=0)\n",
    "genOptim = optim.Adam(generator.parameters(), lr=0.05)#, momentum=0.5)"
   ]
  },
  {
   "cell_type": "code",
   "execution_count": 11,
   "metadata": {},
   "outputs": [],
   "source": [
    "import matplotlib.pyplot as plt"
   ]
  },
  {
   "cell_type": "code",
   "execution_count": null,
   "metadata": {
    "scrolled": true
   },
   "outputs": [
    {
     "name": "stdout",
     "output_type": "stream",
     "text": [
      "Entering epoch yay: 0\n",
      "Critic batch: 0\n",
      "-1.2975437641143799\n",
      "-1.297724962234497\n",
      "-0.0001811981201171875\n",
      "Generator batch: 0\n",
      "3.433364152908325\n",
      "Entering epoch yay: 1\n",
      "Critic batch: 0\n",
      "-3.1790969371795654\n",
      "-3.4144985675811768\n",
      "-0.23540163040161133\n",
      "Generator batch: 0\n",
      "5.4969305992126465\n",
      "Entering epoch yay: 2\n",
      "Critic batch: 0\n",
      "-1.678228497505188\n",
      "-5.3486175537109375\n",
      "-3.670389175415039\n",
      "Generator batch: 0\n",
      "8.889432907104492\n",
      "Entering epoch yay: 3\n",
      "Critic batch: 0\n",
      "-2.9488182067871094\n",
      "-9.501235961914062\n",
      "-6.552417755126953\n",
      "Generator batch: 0\n",
      "15.648354530334473\n",
      "Entering epoch yay: 4\n",
      "Critic batch: 0\n",
      "-1.7242306470870972\n",
      "-14.989906311035156\n",
      "-13.26567554473877\n",
      "Generator batch: 0\n",
      "23.549943923950195\n",
      "Entering epoch yay: 5\n",
      "Critic batch: 0\n",
      "-5.93524694442749\n",
      "-24.857717514038086\n",
      "-18.922470092773438\n",
      "Generator batch: 0\n",
      "29.17894744873047\n",
      "Entering epoch yay: 6\n",
      "Critic batch: 0\n",
      "-1.9878171682357788\n",
      "-29.973064422607422\n",
      "-27.985246658325195\n",
      "Generator batch: 0\n",
      "39.53411865234375\n",
      "Entering epoch yay: 7\n",
      "Critic batch: 0\n"
     ]
    }
   ],
   "source": [
    "for epoch in range(num_epochs):\n",
    "    print('Entering epoch yay: ' + str(epoch))\n",
    "    realScore = 0.0 \n",
    "    fakeScore = 0.0\n",
    "    mainLoss = 0.0\n",
    "    #critic training loop\n",
    "    for batch_no, batch in enumerate(dogloader):\n",
    "        if (critic_epochs == 0):\n",
    "            break\n",
    "        print('Critic batch: ' + str(batch_no))\n",
    "        scores = get_critic_scores(batch, batchSize, critic, generator)\n",
    "        real_score = scores[0]\n",
    "        gen_score = scores[1]\n",
    "        #loss function\n",
    "        loss = -( real_score - gen_score ) #+ 0.01 * ( torch.pow(real_score,2) + torch.pow(gen_score,2) ) #penalize for distance away from 0\n",
    "        #some tracking of numbers here\n",
    "        realScore += real_score.item()\n",
    "        fakeScore += gen_score.item()\n",
    "        mainLoss += loss.item()\n",
    "        #optimize\n",
    "        criticOptim.zero_grad()\n",
    "        loss.backward()\n",
    "        criticOptim.step()\n",
    "        \n",
    "        if (batch_no % critic_epochs == critic_epochs-1):\n",
    "            break\n",
    "    print(realScore)\n",
    "    print(fakeScore)\n",
    "    print(mainLoss)\n",
    "    \n",
    "    mainLoss = 0.0\n",
    "    #generator training loop\n",
    "    for gepoch in range(gen_epochs):\n",
    "        print('Generator batch: ' + str(gepoch))\n",
    "        gen_score = get_generator_score(batchSize, critic, generator)\n",
    "        #loss function\n",
    "        loss = -gen_score\n",
    "        #tracking of numbers\n",
    "        mainLoss += loss.item()\n",
    "        #optimize\n",
    "        genOptim.zero_grad()\n",
    "        loss.backward()\n",
    "        genOptim.step()\n",
    "    print(mainLoss)\n",
    "    \n",
    "    if (epoch % 20 == 19): #give us something to look at every so often\n",
    "        generator.eval()\n",
    "        rando = torch.randn([1, 100, 1, 1])\n",
    "        gen = generator(rando)\n",
    "        plt.imshow(gen[0].permute(1,2,0).detach().numpy())\n",
    "        plt.show()\n",
    "        generator.train()"
   ]
  },
  {
   "cell_type": "code",
   "execution_count": null,
   "metadata": {
    "scrolled": true
   },
   "outputs": [],
   "source": [
    "critic.batchSize = 1\n",
    "critic.eval()\n",
    "print(critic(dogdata[800][0].unsqueeze(0)))\n",
    "rando = torch.randn([1, 100, 1, 1])\n",
    "print(critic(generator(rando)))\n",
    "\n",
    "gen = generator(rando)\n",
    "plt.imshow(gen[0].permute(1,2,0).detach().numpy())\n",
    "plt.show()\n",
    "\n",
    "plt.imshow(dogdata[0][0].permute(1,2,0))\n",
    "plt.show()"
   ]
  }
 ],
 "metadata": {
  "kernelspec": {
   "display_name": "Python 3",
   "language": "python",
   "name": "python3"
  },
  "language_info": {
   "codemirror_mode": {
    "name": "ipython",
    "version": 3
   },
   "file_extension": ".py",
   "mimetype": "text/x-python",
   "name": "python",
   "nbconvert_exporter": "python",
   "pygments_lexer": "ipython3",
   "version": "3.8.3"
  }
 },
 "nbformat": 4,
 "nbformat_minor": 4
}
