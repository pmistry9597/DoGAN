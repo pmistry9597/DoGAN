{
 "cells": [
  {
   "cell_type": "code",
   "execution_count": 1,
   "metadata": {
    "scrolled": false
   },
   "outputs": [],
   "source": [
    "from generator import Generator\n",
    "from critic import Critic\n",
    "from dog_dataset import DogData"
   ]
  },
  {
   "cell_type": "code",
   "execution_count": 2,
   "metadata": {
    "scrolled": false
   },
   "outputs": [],
   "source": [
    "from torchvision import transforms\n",
    "from torch.utils.data import DataLoader\n",
    "import torch\n",
    "from torch import optim"
   ]
  },
  {
   "cell_type": "code",
   "execution_count": 3,
   "metadata": {
    "scrolled": false
   },
   "outputs": [],
   "source": [
    "batchSize = 1"
   ]
  },
  {
   "cell_type": "code",
   "execution_count": 4,
   "metadata": {
    "scrolled": false
   },
   "outputs": [],
   "source": [
    "transform = transforms.Compose( [ transforms.ToTensor(), transforms.Normalize((0.5,0.5,0.5),(0.5,0.5,0.5)) ] )\n",
    "dogdata = DogData(transform)\n",
    "dogloader = DataLoader(dogdata, shuffle=True, batch_size=batchSize, num_workers=3)"
   ]
  },
  {
   "cell_type": "code",
   "execution_count": 5,
   "metadata": {},
   "outputs": [
    {
     "name": "stdout",
     "output_type": "stream",
     "text": [
      "tensor(-1.)\n"
     ]
    }
   ],
   "source": [
    "print(torch.median(dogdata[0][0]))"
   ]
  },
  {
   "cell_type": "code",
   "execution_count": 6,
   "metadata": {
    "scrolled": false
   },
   "outputs": [],
   "source": [
    "def get_critic_scores(real_batch, batchSize, critic, generator):\n",
    "    generator.batchSize = batchSize\n",
    "    critic.batchSize = batchSize\n",
    "    #generate fake images\n",
    "    randoBatch = torch.randn([batchSize, 100, 1, 1])\n",
    "    generated = generator(randoBatch)\n",
    "    #compute scores of both real and fake using the critic\n",
    "    real_scores = critic(real_batch[0])\n",
    "    gen_scores = critic(generated)\n",
    "    return ( torch.sum(real_scores) , torch.sum(gen_scores) )"
   ]
  },
  {
   "cell_type": "code",
   "execution_count": 7,
   "metadata": {
    "scrolled": false
   },
   "outputs": [],
   "source": [
    "def get_generator_score(batchSize, critic, generator):\n",
    "    generator.batchSize = batchSize\n",
    "    #generate fake images\n",
    "    randoBatch = torch.randn([batchSize, 100, 1, 1])\n",
    "    generated = generator(randoBatch)\n",
    "    #compute scores of generated using critic\n",
    "    #gen_scores = critic(generated)\n",
    "    gen_scores = torch.pow(generated - dogdata[0][0], 2)\n",
    "    return torch.sum(gen_scores)"
   ]
  },
  {
   "cell_type": "code",
   "execution_count": 8,
   "metadata": {
    "scrolled": false
   },
   "outputs": [],
   "source": [
    "class WeightClipper(object):\n",
    "\n",
    "    def __init__(self, frequency=5):\n",
    "        self.frequency = frequency\n",
    "\n",
    "    def __call__(self, module):\n",
    "        # filter the variables to get the ones you want\n",
    "        if hasattr(module, 'weight'):\n",
    "            w = module.weight.data\n",
    "            w = w.clamp(-0.01,0.01)\n",
    "            module.weight.data = w"
   ]
  },
  {
   "cell_type": "code",
   "execution_count": 9,
   "metadata": {
    "scrolled": true
   },
   "outputs": [
    {
     "data": {
      "text/plain": [
       "Critic(\n",
       "  (convBlocks): Sequential(\n",
       "    (0): Sequential(\n",
       "      (0): Conv2d(3, 32, kernel_size=(3, 3), stride=(2, 2), padding=(1, 1))\n",
       "      (1): BatchNorm2d(32, eps=1e-05, momentum=0.1, affine=True, track_running_stats=True)\n",
       "      (2): LeakyReLU(negative_slope=0.01)\n",
       "    )\n",
       "    (1): Sequential(\n",
       "      (0): Conv2d(32, 64, kernel_size=(3, 3), stride=(2, 2), padding=(1, 1))\n",
       "      (1): BatchNorm2d(64, eps=1e-05, momentum=0.1, affine=True, track_running_stats=True)\n",
       "      (2): LeakyReLU(negative_slope=0.01)\n",
       "    )\n",
       "    (2): Sequential(\n",
       "      (0): Conv2d(64, 128, kernel_size=(3, 3), stride=(1, 1))\n",
       "      (1): BatchNorm2d(128, eps=1e-05, momentum=0.1, affine=True, track_running_stats=True)\n",
       "      (2): LeakyReLU(negative_slope=0.01)\n",
       "    )\n",
       "  )\n",
       "  (fcBlocks): Sequential(\n",
       "    (0): Sequential(\n",
       "      (0): Linear(in_features=67712, out_features=100, bias=True)\n",
       "      (1): BatchNorm1d(100, eps=1e-05, momentum=0.1, affine=True, track_running_stats=True)\n",
       "      (2): LeakyReLU(negative_slope=0.01)\n",
       "    )\n",
       "    (1): Sequential(\n",
       "      (0): Linear(in_features=100, out_features=50, bias=True)\n",
       "      (1): BatchNorm1d(50, eps=1e-05, momentum=0.1, affine=True, track_running_stats=True)\n",
       "      (2): LeakyReLU(negative_slope=0.01)\n",
       "    )\n",
       "    (2): Linear(in_features=50, out_features=1, bias=True)\n",
       "  )\n",
       ")"
      ]
     },
     "execution_count": 9,
     "metadata": {},
     "output_type": "execute_result"
    }
   ],
   "source": [
    "critic = Critic()\n",
    "generator = Generator()\n",
    "clipper = WeightClipper()\n",
    "critic.apply(clipper)"
   ]
  },
  {
   "cell_type": "code",
   "execution_count": 10,
   "metadata": {
    "scrolled": false
   },
   "outputs": [],
   "source": [
    "num_epochs = 20\n",
    "critic_epochs = 0\n",
    "gen_epochs = 1"
   ]
  },
  {
   "cell_type": "code",
   "execution_count": 21,
   "metadata": {
    "scrolled": false
   },
   "outputs": [],
   "source": [
    "criticOptim = optim.RMSprop(critic.parameters(), lr=0.0005, momentum=0)\n",
    "genOptim = optim.Adam(generator.parameters(), lr=0.001)#, momentum=0)"
   ]
  },
  {
   "cell_type": "code",
   "execution_count": 43,
   "metadata": {
    "scrolled": true
   },
   "outputs": [
    {
     "name": "stdout",
     "output_type": "stream",
     "text": [
      "Entering epoch yay: 0\n",
      "0.0\n",
      "0.0\n",
      "0.0\n",
      "Generator batch: 0\n",
      "1150.6201171875\n",
      "Entering epoch yay: 1\n",
      "0.0\n",
      "0.0\n",
      "0.0\n",
      "Generator batch: 0\n",
      "464.56085205078125\n",
      "Entering epoch yay: 2\n",
      "0.0\n",
      "0.0\n",
      "0.0\n",
      "Generator batch: 0\n",
      "1334.3543701171875\n",
      "Entering epoch yay: 3\n",
      "0.0\n",
      "0.0\n",
      "0.0\n",
      "Generator batch: 0\n",
      "469.28448486328125\n",
      "Entering epoch yay: 4\n",
      "0.0\n",
      "0.0\n",
      "0.0\n",
      "Generator batch: 0\n",
      "647.7583618164062\n",
      "Entering epoch yay: 5\n",
      "0.0\n",
      "0.0\n",
      "0.0\n",
      "Generator batch: 0\n",
      "464.93212890625\n",
      "Entering epoch yay: 6\n",
      "0.0\n",
      "0.0\n",
      "0.0\n",
      "Generator batch: 0\n",
      "384.1785888671875\n",
      "Entering epoch yay: 7\n",
      "0.0\n",
      "0.0\n",
      "0.0\n",
      "Generator batch: 0\n",
      "333.70135498046875\n",
      "Entering epoch yay: 8\n",
      "0.0\n",
      "0.0\n",
      "0.0\n",
      "Generator batch: 0\n",
      "1683.8731689453125\n",
      "Entering epoch yay: 9\n",
      "0.0\n",
      "0.0\n",
      "0.0\n",
      "Generator batch: 0\n",
      "466.3692321777344\n",
      "Entering epoch yay: 10\n",
      "0.0\n",
      "0.0\n",
      "0.0\n",
      "Generator batch: 0\n",
      "329.740478515625\n",
      "Entering epoch yay: 11\n",
      "0.0\n",
      "0.0\n",
      "0.0\n",
      "Generator batch: 0\n",
      "166.3889617919922\n",
      "Entering epoch yay: 12\n",
      "0.0\n",
      "0.0\n",
      "0.0\n",
      "Generator batch: 0\n",
      "390.9830017089844\n",
      "Entering epoch yay: 13\n",
      "0.0\n",
      "0.0\n",
      "0.0\n",
      "Generator batch: 0\n",
      "854.8386840820312\n",
      "Entering epoch yay: 14\n",
      "0.0\n",
      "0.0\n",
      "0.0\n",
      "Generator batch: 0\n",
      "619.2498779296875\n",
      "Entering epoch yay: 15\n",
      "0.0\n",
      "0.0\n",
      "0.0\n",
      "Generator batch: 0\n",
      "163.42874145507812\n",
      "Entering epoch yay: 16\n",
      "0.0\n",
      "0.0\n",
      "0.0\n",
      "Generator batch: 0\n",
      "1434.4603271484375\n",
      "Entering epoch yay: 17\n",
      "0.0\n",
      "0.0\n",
      "0.0\n",
      "Generator batch: 0\n",
      "570.6585693359375\n",
      "Entering epoch yay: 18\n",
      "0.0\n",
      "0.0\n",
      "0.0\n",
      "Generator batch: 0\n",
      "351.640380859375\n",
      "Entering epoch yay: 19\n",
      "0.0\n",
      "0.0\n",
      "0.0\n",
      "Generator batch: 0\n",
      "1198.6375732421875\n"
     ]
    }
   ],
   "source": [
    "for epoch in range(num_epochs):\n",
    "    print('Entering epoch yay: ' + str(epoch))\n",
    "    realScore = 0.0 \n",
    "    fakeScore = 0.0\n",
    "    mainLoss = 0.0\n",
    "    #critic training loop\n",
    "    for batch_no, batch in enumerate(dogloader):\n",
    "        if (critic_epochs == 0):\n",
    "            break\n",
    "        print('Critic batch: ' + str(batch_no))\n",
    "        scores = get_critic_scores(batch, batchSize, critic, generator)\n",
    "        real_score = scores[0]\n",
    "        gen_score = scores[1]\n",
    "        #loss function\n",
    "        loss = -( real_score - gen_score ) #+ 0.01 * ( torch.pow(real_score,2) + torch.pow(gen_score,2) ) #penalize for distance away from 0\n",
    "        #some tracking of numbers here\n",
    "        realScore += real_score.item()\n",
    "        fakeScore += gen_score.item()\n",
    "        mainLoss += loss.item()\n",
    "        #optimize\n",
    "        criticOptim.zero_grad()\n",
    "        loss.backward()\n",
    "        criticOptim.step()\n",
    "        \n",
    "        if (batch_no % critic_epochs == critic_epochs-1):\n",
    "            break\n",
    "    print(realScore)\n",
    "    print(fakeScore)\n",
    "    print(mainLoss)\n",
    "    \n",
    "    mainLoss = 0.0\n",
    "    #generator training loop\n",
    "    for gepoch in range(gen_epochs):\n",
    "        print('Generator batch: ' + str(gepoch))\n",
    "        gen_score = get_generator_score(batchSize, critic, generator)\n",
    "        #loss function\n",
    "        loss = gen_score\n",
    "        #tracking of numbers\n",
    "        mainLoss += loss.item()\n",
    "        #optimize\n",
    "        genOptim.zero_grad()\n",
    "        loss.backward()\n",
    "        genOptim.step()\n",
    "    print(mainLoss)"
   ]
  },
  {
   "cell_type": "code",
   "execution_count": 49,
   "metadata": {
    "scrolled": true
   },
   "outputs": [
    {
     "name": "stderr",
     "output_type": "stream",
     "text": [
      "Clipping input data to the valid range for imshow with RGB data ([0..1] for floats or [0..255] for integers).\n"
     ]
    },
    {
     "name": "stdout",
     "output_type": "stream",
     "text": [
      "tensor([[0.1071]], grad_fn=<AddmmBackward>)\n",
      "tensor([[0.1071]], grad_fn=<AddmmBackward>)\n"
     ]
    },
    {
     "data": {
      "image/png": "[encoded data removed]",
      "text/plain": [
       "<Figure size 432x288 with 1 Axes>"
      ]
     },
     "metadata": {
      "needs_background": "light"
     },
     "output_type": "display_data"
    },
    {
     "name": "stderr",
     "output_type": "stream",
     "text": [
      "Clipping input data to the valid range for imshow with RGB data ([0..1] for floats or [0..255] for integers).\n"
     ]
    },
    {
     "data": {
      "image/png": "[encoded data removed]",
      "text/plain": [
       "<Figure size 432x288 with 1 Axes>"
      ]
     },
     "metadata": {
      "needs_background": "light"
     },
     "output_type": "display_data"
    }
   ],
   "source": [
    "import matplotlib.pyplot as plt\n",
    "critic.batchSize = 1\n",
    "critic.eval()\n",
    "print(critic(dogdata[800][0].unsqueeze(0)))\n",
    "rando = torch.randn([1, 100, 1, 1])\n",
    "print(critic(generator(rando)))\n",
    "\n",
    "gen = generator(rando)\n",
    "plt.imshow(gen[0].permute(1,2,0).detach().numpy())\n",
    "plt.show()\n",
    "\n",
    "plt.imshow(dogdata[0][0].permute(1,2,0))\n",
    "plt.show()"
   ]
  }
 ],
 "metadata": {
  "kernelspec": {
   "display_name": "Python 3",
   "language": "python",
   "name": "python3"
  },
  "language_info": {
   "codemirror_mode": {
    "name": "ipython",
    "version": 3
   },
   "file_extension": ".py",
   "mimetype": "text/x-python",
   "name": "python",
   "nbconvert_exporter": "python",
   "pygments_lexer": "ipython3",
   "version": "3.8.3"
  }
 },
 "nbformat": 4,
 "nbformat_minor": 4
}
