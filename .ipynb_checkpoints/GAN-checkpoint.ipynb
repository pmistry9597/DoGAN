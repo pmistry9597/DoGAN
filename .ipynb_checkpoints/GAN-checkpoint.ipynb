{
 "cells": [
  {
   "cell_type": "code",
   "execution_count": 22,
   "metadata": {},
   "outputs": [],
   "source": [
    "from generator import Generator\n",
    "from critic import Critic\n",
    "from dog_dataset import DogData"
   ]
  },
  {
   "cell_type": "code",
   "execution_count": 50,
   "metadata": {},
   "outputs": [],
   "source": [
    "from torchvision import transforms\n",
    "from torch.utils.data import DataLoader\n",
    "import torch\n",
    "from torch import optim"
   ]
  },
  {
   "cell_type": "code",
   "execution_count": 24,
   "metadata": {},
   "outputs": [],
   "source": [
    "batchSize = 10"
   ]
  },
  {
   "cell_type": "code",
   "execution_count": 25,
   "metadata": {},
   "outputs": [],
   "source": [
    "transform = transforms.Compose( [ transforms.ToTensor(), transforms.Normalize((0.5,0.5,0.5),(0.5,0.5,0.5)) ] )\n",
    "dogdata = DogData(transform)\n",
    "dogloader = DataLoader(dogdata, shuffle=True, batch_size=batchSize, num_workers=3)"
   ]
  },
  {
   "cell_type": "code",
   "execution_count": 39,
   "metadata": {},
   "outputs": [],
   "source": [
    "def get_critic_scores(real_batch, batchSize, critic, generator):\n",
    "    generator.batchSize = batchSize\n",
    "    critic.batchSize = batchSize\n",
    "    #generate fake images\n",
    "    randoBatch = torch.rand([batchSize, 512, 1, 1])\n",
    "    generated = generator(randoBatch)\n",
    "    #compute scores of both real and fake using the critic\n",
    "    real_scores = critic(real_batch[0])\n",
    "    gen_scores = critic(generated)\n",
    "    return ( torch.sum(real_scores) , torch.sum(gen_scores) )"
   ]
  },
  {
   "cell_type": "code",
   "execution_count": 44,
   "metadata": {},
   "outputs": [],
   "source": [
    "def get_generator_score(batchSize, critic, generator):\n",
    "    generator.batchSize = batchSize\n",
    "    #generate fake images\n",
    "    randoBatch = torch.rand([batchSize, 512, 1, 1])\n",
    "    generated = generator(randoBatch)\n",
    "    #compute scores of generated using critic\n",
    "    gen_scores = critic(generated)\n",
    "    return torch.sum(gen_scores)"
   ]
  },
  {
   "cell_type": "code",
   "execution_count": 45,
   "metadata": {},
   "outputs": [],
   "source": [
    "critic = Critic()\n",
    "generator = Generator()"
   ]
  },
  {
   "cell_type": "code",
   "execution_count": 48,
   "metadata": {},
   "outputs": [],
   "source": [
    "num_epochs = 10\n",
    "critic_epochs = 2\n",
    "gen_epochs = 2"
   ]
  },
  {
   "cell_type": "code",
   "execution_count": 51,
   "metadata": {},
   "outputs": [],
   "source": [
    "criticOptim = optim.Adam(critic.parameters(), lr=0.0001)\n",
    "genOptim = optim.Adam(generator.parameters(), lr=0.0001)"
   ]
  },
  {
   "cell_type": "code",
   "execution_count": null,
   "metadata": {},
   "outputs": [],
   "source": []
  }
 ],
 "metadata": {
  "kernelspec": {
   "display_name": "Python 3",
   "language": "python",
   "name": "python3"
  },
  "language_info": {
   "codemirror_mode": {
    "name": "ipython",
    "version": 3
   },
   "file_extension": ".py",
   "mimetype": "text/x-python",
   "name": "python",
   "nbconvert_exporter": "python",
   "pygments_lexer": "ipython3",
   "version": "3.8.3"
  }
 },
 "nbformat": 4,
 "nbformat_minor": 4
}
