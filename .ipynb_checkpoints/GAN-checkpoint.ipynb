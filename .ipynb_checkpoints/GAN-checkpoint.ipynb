{
 "cells": [
  {
   "cell_type": "code",
   "execution_count": 1,
   "metadata": {
    "scrolled": false
   },
   "outputs": [],
   "source": [
    "from generator import Generator\n",
    "from critic import Critic\n",
    "from dog_dataset import DogData"
   ]
  },
  {
   "cell_type": "code",
   "execution_count": 2,
   "metadata": {
    "scrolled": false
   },
   "outputs": [],
   "source": [
    "from torchvision import transforms\n",
    "from torch.utils.data import DataLoader\n",
    "import torch\n",
    "from torch import optim"
   ]
  },
  {
   "cell_type": "code",
   "execution_count": 3,
   "metadata": {
    "scrolled": false
   },
   "outputs": [],
   "source": [
    "batchSize = 10"
   ]
  },
  {
   "cell_type": "code",
   "execution_count": 4,
   "metadata": {
    "scrolled": false
   },
   "outputs": [],
   "source": [
    "transform = transforms.Compose( [ transforms.ToTensor(), transforms.Normalize((0.5,0.5,0.5),(0.5,0.5,0.5)) ] )\n",
    "dogdata = DogData(transform)\n",
    "dogloader = DataLoader(dogdata, shuffle=True, batch_size=batchSize, num_workers=3)"
   ]
  },
  {
   "cell_type": "code",
   "execution_count": 5,
   "metadata": {
    "scrolled": false
   },
   "outputs": [],
   "source": [
    "def get_critic_scores(real_batch, batchSize, critic, generator):\n",
    "    generator.batchSize = batchSize\n",
    "    critic.batchSize = batchSize\n",
    "    #generate fake images\n",
    "    randoBatch = torch.rand([batchSize, 100, 1, 1])\n",
    "    generated = generator(randoBatch)\n",
    "    #compute scores of both real and fake using the critic\n",
    "    real_scores = critic(real_batch[0])\n",
    "    gen_scores = critic(generated)\n",
    "    return ( torch.sum(real_scores) , torch.sum(gen_scores) )"
   ]
  },
  {
   "cell_type": "code",
   "execution_count": 6,
   "metadata": {
    "scrolled": false
   },
   "outputs": [],
   "source": [
    "def get_generator_score(batchSize, critic, generator):\n",
    "    generator.batchSize = batchSize\n",
    "    #generate fake images\n",
    "    randoBatch = torch.rand([batchSize, 100, 1, 1])\n",
    "    generated = generator(randoBatch)\n",
    "    #compute scores of generated using critic\n",
    "    gen_scores = critic(generated)\n",
    "    return torch.sum(gen_scores)"
   ]
  },
  {
   "cell_type": "code",
   "execution_count": 7,
   "metadata": {
    "scrolled": false
   },
   "outputs": [],
   "source": [
    "class WeightClipper(object):\n",
    "\n",
    "    def __init__(self, frequency=5):\n",
    "        self.frequency = frequency\n",
    "\n",
    "    def __call__(self, module):\n",
    "        # filter the variables to get the ones you want\n",
    "        if hasattr(module, 'weight'):\n",
    "            w = module.weight.data\n",
    "            w = w.clamp(-0.01,0.01)\n",
    "            module.weight.data = w"
   ]
  },
  {
   "cell_type": "code",
   "execution_count": 8,
   "metadata": {
    "scrolled": true
   },
   "outputs": [],
   "source": [
    "critic = Critic()\n",
    "generator = Generator()\n",
    "clipper = WeightClipper()\n",
    "critic.apply(clipper)"
   ]
  },
  {
   "cell_type": "code",
   "execution_count": 13,
   "metadata": {
    "scrolled": false
   },
   "outputs": [],
   "source": [
    "num_epochs = 50\n",
    "critic_epochs = 5\n",
    "gen_epochs = 1"
   ]
  },
  {
   "cell_type": "code",
   "execution_count": 14,
   "metadata": {
    "scrolled": false
   },
   "outputs": [],
   "source": [
    "criticOptim = optim.RMSprop(critic.parameters(), lr=0.00005, momentum=0)\n",
    "genOptim = optim.RMSprop(generator.parameters(), lr=0.00005, momentum=0)"
   ]
  },
  {
   "cell_type": "code",
   "execution_count": 15,
   "metadata": {
    "scrolled": true
   },
   "outputs": [
    {
     "name": "stdout",
     "output_type": "stream",
     "text": [
      "Entering epoch yay: 0\n",
      "Critic batch: 0\n",
      "Critic batch: 1\n",
      "Critic batch: 2\n",
      "Critic batch: 3\n",
      "Critic batch: 4\n",
      "-7171.683459281921\n",
      "-225636.4533996582\n",
      "-218464.765625\n",
      "Generator batch: 0\n",
      "255381.125\n",
      "Entering epoch yay: 1\n",
      "Critic batch: 0\n",
      "Critic batch: 1\n",
      "Critic batch: 2\n",
      "Critic batch: 3\n",
      "Critic batch: 4\n",
      "-96126.43603515625\n",
      "-2623558.265625\n",
      "-2527431.78125\n",
      "Generator batch: 0\n",
      "1270004.25\n",
      "Entering epoch yay: 2\n",
      "Critic batch: 0\n",
      "Critic batch: 1\n",
      "Critic batch: 2\n",
      "Critic batch: 3\n",
      "Critic batch: 4\n",
      "-310268.51953125\n",
      "-8099034.5\n",
      "-7788765.9375\n",
      "Generator batch: 0\n",
      "2770871.0\n",
      "Entering epoch yay: 3\n",
      "Critic batch: 0\n",
      "Critic batch: 1\n",
      "Critic batch: 2\n",
      "Critic batch: 3\n",
      "Critic batch: 4\n",
      "-534886.046875\n",
      "-14689082.25\n",
      "-14154196.25\n",
      "Generator batch: 0\n",
      "4233787.5\n",
      "Entering epoch yay: 4\n",
      "Critic batch: 0\n",
      "Critic batch: 1\n",
      "Critic batch: 2\n",
      "Critic batch: 3\n",
      "Critic batch: 4\n",
      "-638687.75\n",
      "-22689271.0\n",
      "-22050583.25\n",
      "Generator batch: 0\n",
      "6072421.5\n",
      "Entering epoch yay: 5\n",
      "Critic batch: 0\n",
      "Critic batch: 1\n",
      "Critic batch: 2\n",
      "Critic batch: 3\n",
      "Critic batch: 4\n",
      "-596524.875\n",
      "-29465522.5\n",
      "-28868997.5\n",
      "Generator batch: 0\n",
      "7415909.5\n",
      "Entering epoch yay: 6\n",
      "Critic batch: 0\n",
      "Critic batch: 1\n",
      "Critic batch: 2\n",
      "Critic batch: 3\n",
      "Critic batch: 4\n",
      "-366018.5166015625\n",
      "-38106336.5\n",
      "-37740318.0\n",
      "Generator batch: 0\n",
      "9212263.0\n",
      "Entering epoch yay: 7\n",
      "Critic batch: 0\n",
      "Critic batch: 1\n",
      "Critic batch: 2\n",
      "Critic batch: 3\n",
      "Critic batch: 4\n",
      "122364.767578125\n",
      "-46180204.0\n",
      "-46302568.5\n",
      "Generator batch: 0\n",
      "10983768.0\n",
      "Entering epoch yay: 8\n",
      "Critic batch: 0\n",
      "Critic batch: 1\n",
      "Critic batch: 2\n",
      "Critic batch: 3\n",
      "Critic batch: 4\n",
      "885653.078125\n",
      "-55245337.0\n",
      "-56130990.0\n",
      "Generator batch: 0\n",
      "12988654.0\n",
      "Entering epoch yay: 9\n",
      "Critic batch: 0\n",
      "Critic batch: 1\n",
      "Critic batch: 2\n",
      "Critic batch: 3\n",
      "Critic batch: 4\n",
      "1764785.765625\n",
      "-66489554.0\n",
      "-68254339.0\n",
      "Generator batch: 0\n",
      "15408963.0\n",
      "Entering epoch yay: 10\n",
      "Critic batch: 0\n",
      "Critic batch: 1\n",
      "Critic batch: 2\n",
      "Critic batch: 3\n",
      "Critic batch: 4\n",
      "2755429.1875\n",
      "-76620937.0\n",
      "-79376366.0\n",
      "Generator batch: 0\n",
      "17159104.0\n",
      "Entering epoch yay: 11\n",
      "Critic batch: 0\n",
      "Critic batch: 1\n",
      "Critic batch: 2\n",
      "Critic batch: 3\n",
      "Critic batch: 4\n",
      "4060982.25\n",
      "-89310128.0\n",
      "-93371112.0\n",
      "Generator batch: 0\n",
      "20352224.0\n",
      "Entering epoch yay: 12\n",
      "Critic batch: 0\n",
      "Critic batch: 1\n",
      "Critic batch: 2\n",
      "Critic batch: 3\n",
      "Critic batch: 4\n",
      "5161800.875\n",
      "-106068440.0\n",
      "-111230242.0\n",
      "Generator batch: 0\n",
      "23785128.0\n",
      "Entering epoch yay: 13\n",
      "Critic batch: 0\n",
      "Critic batch: 1\n",
      "Critic batch: 2\n",
      "Critic batch: 3\n",
      "Critic batch: 4\n",
      "6840198.375\n",
      "-127784304.0\n",
      "-134624504.0\n",
      "Generator batch: 0\n",
      "28585882.0\n",
      "Entering epoch yay: 14\n",
      "Critic batch: 0\n",
      "Critic batch: 1\n",
      "Critic batch: 2\n",
      "Critic batch: 3\n",
      "Critic batch: 4\n",
      "8757093.875\n",
      "-144655720.0\n",
      "-153412814.0\n",
      "Generator batch: 0\n",
      "32163228.0\n",
      "Entering epoch yay: 15\n",
      "Critic batch: 0\n",
      "Critic batch: 1\n",
      "Critic batch: 2\n",
      "Critic batch: 3\n",
      "Critic batch: 4\n",
      "11127483.375\n",
      "-169549864.0\n",
      "-180677344.0\n",
      "Generator batch: 0\n",
      "37603156.0\n",
      "Entering epoch yay: 16\n",
      "Critic batch: 0\n",
      "Critic batch: 1\n",
      "Critic batch: 2\n",
      "Critic batch: 3\n",
      "Critic batch: 4\n",
      "13764281.75\n",
      "-195018200.0\n",
      "-208782484.0\n",
      "Generator batch: 0\n",
      "43028988.0\n",
      "Entering epoch yay: 17\n",
      "Critic batch: 0\n",
      "Critic batch: 1\n",
      "Critic batch: 2\n",
      "Critic batch: 3\n",
      "Critic batch: 4\n",
      "16905831.25\n",
      "-220755236.0\n",
      "-237661072.0\n",
      "Generator batch: 0\n",
      "48498700.0\n",
      "Entering epoch yay: 18\n",
      "Critic batch: 0\n",
      "Critic batch: 1\n",
      "Critic batch: 2\n",
      "Critic batch: 3\n",
      "Critic batch: 4\n",
      "20662227.0\n",
      "-248597876.0\n",
      "-269260104.0\n",
      "Generator batch: 0\n",
      "54538100.0\n",
      "Entering epoch yay: 19\n",
      "Critic batch: 0\n",
      "Critic batch: 1\n",
      "Critic batch: 2\n",
      "Critic batch: 3\n",
      "Critic batch: 4\n",
      "24889118.5\n",
      "-287449524.0\n",
      "-312338640.0\n",
      "Generator batch: 0\n",
      "62668048.0\n",
      "Entering epoch yay: 20\n",
      "Critic batch: 0\n",
      "Critic batch: 1\n",
      "Critic batch: 2\n"
     ]
    },
    {
     "ename": "KeyboardInterrupt",
     "evalue": "",
     "output_type": "error",
     "traceback": [
      "\u001b[1;31m---------------------------------------------------------------------------\u001b[0m",
      "\u001b[1;31mKeyboardInterrupt\u001b[0m                         Traceback (most recent call last)",
      "\u001b[1;32m<ipython-input-15-f0031f3a3a56>\u001b[0m in \u001b[0;36m<module>\u001b[1;34m\u001b[0m\n\u001b[0;32m     18\u001b[0m         \u001b[1;31m#optimize\u001b[0m\u001b[1;33m\u001b[0m\u001b[1;33m\u001b[0m\u001b[1;33m\u001b[0m\u001b[0m\n\u001b[0;32m     19\u001b[0m         \u001b[0mcriticOptim\u001b[0m\u001b[1;33m.\u001b[0m\u001b[0mzero_grad\u001b[0m\u001b[1;33m(\u001b[0m\u001b[1;33m)\u001b[0m\u001b[1;33m\u001b[0m\u001b[1;33m\u001b[0m\u001b[0m\n\u001b[1;32m---> 20\u001b[1;33m         \u001b[0mloss\u001b[0m\u001b[1;33m.\u001b[0m\u001b[0mbackward\u001b[0m\u001b[1;33m(\u001b[0m\u001b[1;33m)\u001b[0m\u001b[1;33m\u001b[0m\u001b[1;33m\u001b[0m\u001b[0m\n\u001b[0m\u001b[0;32m     21\u001b[0m         \u001b[0mcriticOptim\u001b[0m\u001b[1;33m.\u001b[0m\u001b[0mstep\u001b[0m\u001b[1;33m(\u001b[0m\u001b[1;33m)\u001b[0m\u001b[1;33m\u001b[0m\u001b[1;33m\u001b[0m\u001b[0m\n\u001b[0;32m     22\u001b[0m \u001b[1;33m\u001b[0m\u001b[0m\n",
      "\u001b[1;32mC:\\ProgramData\\Anaconda3\\lib\\site-packages\\torch\\tensor.py\u001b[0m in \u001b[0;36mbackward\u001b[1;34m(self, gradient, retain_graph, create_graph)\u001b[0m\n\u001b[0;32m    183\u001b[0m                 \u001b[0mproducts\u001b[0m\u001b[1;33m.\u001b[0m \u001b[0mDefaults\u001b[0m \u001b[0mto\u001b[0m\u001b[0;31m \u001b[0m\u001b[0;31m`\u001b[0m\u001b[0;31m`\u001b[0m\u001b[1;32mFalse\u001b[0m\u001b[0;31m`\u001b[0m\u001b[0;31m`\u001b[0m\u001b[1;33m.\u001b[0m\u001b[1;33m\u001b[0m\u001b[1;33m\u001b[0m\u001b[0m\n\u001b[0;32m    184\u001b[0m         \"\"\"\n\u001b[1;32m--> 185\u001b[1;33m         \u001b[0mtorch\u001b[0m\u001b[1;33m.\u001b[0m\u001b[0mautograd\u001b[0m\u001b[1;33m.\u001b[0m\u001b[0mbackward\u001b[0m\u001b[1;33m(\u001b[0m\u001b[0mself\u001b[0m\u001b[1;33m,\u001b[0m \u001b[0mgradient\u001b[0m\u001b[1;33m,\u001b[0m \u001b[0mretain_graph\u001b[0m\u001b[1;33m,\u001b[0m \u001b[0mcreate_graph\u001b[0m\u001b[1;33m)\u001b[0m\u001b[1;33m\u001b[0m\u001b[1;33m\u001b[0m\u001b[0m\n\u001b[0m\u001b[0;32m    186\u001b[0m \u001b[1;33m\u001b[0m\u001b[0m\n\u001b[0;32m    187\u001b[0m     \u001b[1;32mdef\u001b[0m \u001b[0mregister_hook\u001b[0m\u001b[1;33m(\u001b[0m\u001b[0mself\u001b[0m\u001b[1;33m,\u001b[0m \u001b[0mhook\u001b[0m\u001b[1;33m)\u001b[0m\u001b[1;33m:\u001b[0m\u001b[1;33m\u001b[0m\u001b[1;33m\u001b[0m\u001b[0m\n",
      "\u001b[1;32mC:\\ProgramData\\Anaconda3\\lib\\site-packages\\torch\\autograd\\__init__.py\u001b[0m in \u001b[0;36mbackward\u001b[1;34m(tensors, grad_tensors, retain_graph, create_graph, grad_variables)\u001b[0m\n\u001b[0;32m    123\u001b[0m         \u001b[0mretain_graph\u001b[0m \u001b[1;33m=\u001b[0m \u001b[0mcreate_graph\u001b[0m\u001b[1;33m\u001b[0m\u001b[1;33m\u001b[0m\u001b[0m\n\u001b[0;32m    124\u001b[0m \u001b[1;33m\u001b[0m\u001b[0m\n\u001b[1;32m--> 125\u001b[1;33m     Variable._execution_engine.run_backward(\n\u001b[0m\u001b[0;32m    126\u001b[0m         \u001b[0mtensors\u001b[0m\u001b[1;33m,\u001b[0m \u001b[0mgrad_tensors\u001b[0m\u001b[1;33m,\u001b[0m \u001b[0mretain_graph\u001b[0m\u001b[1;33m,\u001b[0m \u001b[0mcreate_graph\u001b[0m\u001b[1;33m,\u001b[0m\u001b[1;33m\u001b[0m\u001b[1;33m\u001b[0m\u001b[0m\n\u001b[0;32m    127\u001b[0m         allow_unreachable=True)  # allow_unreachable flag\n",
      "\u001b[1;31mKeyboardInterrupt\u001b[0m: "
     ]
    }
   ],
   "source": [
    "for epoch in range(num_epochs):\n",
    "    print('Entering epoch yay: ' + str(epoch))\n",
    "    realScore = 0.0 \n",
    "    fakeScore = 0.0\n",
    "    mainLoss = 0.0\n",
    "    #critic training loop\n",
    "    for batch_no, batch in enumerate(dogloader):\n",
    "        print('Critic batch: ' + str(batch_no))\n",
    "        scores = get_critic_scores(batch, batchSize, critic, generator)\n",
    "        real_score = scores[0]\n",
    "        gen_score = scores[1]\n",
    "        #loss function\n",
    "        loss = -( real_score - gen_score ) #+ 0.01 * ( torch.pow(real_score,2) + torch.pow(gen_score,2) ) #penalize for distance away from 0\n",
    "        #some tracking of numbers here\n",
    "        realScore += real_score.item()\n",
    "        fakeScore += gen_score.item()\n",
    "        mainLoss += loss.item()\n",
    "        #optimize\n",
    "        criticOptim.zero_grad()\n",
    "        loss.backward()\n",
    "        criticOptim.step()\n",
    "        \n",
    "        if (batch_no % critic_epochs == critic_epochs-1):\n",
    "            break\n",
    "    print(realScore)\n",
    "    print(fakeScore)\n",
    "    print(mainLoss)\n",
    "    \n",
    "    mainLoss = 0.0\n",
    "    #generator training loop\n",
    "    for gepoch in range(gen_epochs):\n",
    "        print('Generator batch: ' + str(gepoch))\n",
    "        gen_score = get_generator_score(batchSize, critic, generator)\n",
    "        #loss function\n",
    "        loss = -gen_score\n",
    "        #tracking of numbers\n",
    "        mainLoss += loss.item()\n",
    "        #optimize\n",
    "        genOptim.zero_grad()\n",
    "        loss.backward()\n",
    "        genOptim.step()\n",
    "    print(mainLoss)"
   ]
  },
  {
   "cell_type": "code",
   "execution_count": 16,
   "metadata": {
    "scrolled": true
   },
   "outputs": [
    {
     "name": "stderr",
     "output_type": "stream",
     "text": [
      "Clipping input data to the valid range for imshow with RGB data ([0..1] for floats or [0..255] for integers).\n"
     ]
    },
    {
     "data": {
      "image/png": "[encoded data removed]",
      "text/plain": [
       "<Figure size 432x288 with 1 Axes>"
      ]
     },
     "metadata": {
      "needs_background": "light"
     },
     "output_type": "display_data"
    },
    {
     "name": "stderr",
     "output_type": "stream",
     "text": [
      "Clipping input data to the valid range for imshow with RGB data ([0..1] for floats or [0..255] for integers).\n"
     ]
    },
    {
     "name": "stdout",
     "output_type": "stream",
     "text": [
      "tensor([[516857.7500]], grad_fn=<AddmmBackward>)\n",
      "tensor([[-6515865.]], grad_fn=<AddmmBackward>)\n"
     ]
    },
    {
     "data": {
      "image/png": "[encoded data removed]",
      "text/plain": [
       "<Figure size 432x288 with 1 Axes>"
      ]
     },
     "metadata": {
      "needs_background": "light"
     },
     "output_type": "display_data"
    }
   ],
   "source": [
    "import matplotlib.pyplot as plt\n",
    "plt.imshow(dogdata[0][0].permute(1,2,0))\n",
    "plt.show()\n",
    "\n",
    "critic.batchSize = 1\n",
    "critic.eval()\n",
    "print(critic(dogdata[800][0].unsqueeze(0)))\n",
    "rando = torch.rand([1, 100, 1, 1])\n",
    "print(critic(generator(rando)))\n",
    "\n",
    "gen = generator(rando)\n",
    "plt.imshow(gen[0].permute(1,2,0).detach().numpy())\n",
    "plt.show()"
   ]
  }
 ],
 "metadata": {
  "kernelspec": {
   "display_name": "Python 3",
   "language": "python",
   "name": "python3"
  },
  "language_info": {
   "codemirror_mode": {
    "name": "ipython",
    "version": 3
   },
   "file_extension": ".py",
   "mimetype": "text/x-python",
   "name": "python",
   "nbconvert_exporter": "python",
   "pygments_lexer": "ipython3",
   "version": "3.8.3"
  }
 },
 "nbformat": 4,
 "nbformat_minor": 4
}
